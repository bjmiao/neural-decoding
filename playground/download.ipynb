{
 "cells": [
  {
   "cell_type": "code",
   "execution_count": 2,
   "metadata": {},
   "outputs": [],
   "source": [
    "from allensdk.core.brain_observatory_cache import BrainObservatoryCache\n",
    "import pprint\n",
    "\n",
    "# This class uses a 'manifest' to keep track of downloaded data and metadata.  \n",
    "# All downloaded files will be stored relative to the directory holding the manifest\n",
    "# file.  If 'manifest_file' is a relative path (as it is below), it will be \n",
    "# saved relative to your working directory.  It can also be an absolute path.\n",
    "boc = BrainObservatoryCache(manifest_file='H:\\\\boc\\\\manifest.json')"
   ]
  },
  {
   "cell_type": "code",
   "execution_count": 3,
   "metadata": {},
   "outputs": [
    {
     "data": {
      "text/plain": [
       "'H:\\\\boc\\\\ophys_experiment_data\\\\502974807.nwb'"
      ]
     },
     "execution_count": 3,
     "metadata": {},
     "output_type": "execute_result"
    }
   ],
   "source": [
    "boc.get_nwb_filepath(502974807)"
   ]
  },
  {
   "cell_type": "code",
   "execution_count": 10,
   "metadata": {},
   "outputs": [
    {
     "name": "stdout",
     "output_type": "stream",
     "text": [
      "len = 1\n",
      "Downloading 506520696\n"
     ]
    },
    {
     "name": "stderr",
     "output_type": "stream",
     "text": [
      "2022-04-12 21:18:31,384 allensdk.api.api.retrieve_file_over_http INFO     Downloading URL: http://api.brain-map.org/api/v2/well_known_file_download/516244121\n"
     ]
    }
   ],
   "source": [
    "# all_exp_session_B = boc.get_ophys_experiments(session_types=['three_session_B'])\n",
    "# need_download_id = [x['id'] for x in all_exp_session_B]\n",
    "\n",
    "# need_download_id = [562222842, 593389688, 554021353] # VISrl, need merge\n",
    "need_download_id = [506520696] # VISpm, need merge\n",
    "\n",
    "print(f\"len = {len(need_download_id)}\")\n",
    "for id in need_download_id:\n",
    "    try:\n",
    "        print(f\"Downloading {id}\")\n",
    "        exp = boc.get_ophys_experiment_data(id)\n",
    "        time, dff_trace = exp.get_dff_traces()\n",
    "    except OSError as e:\n",
    "        print(\"Some exception occurs for id =\", id)\n",
    "        import traceback as tb\n",
    "        tb.print_exc()\n",
    "        # input()"
   ]
  },
  {
   "cell_type": "code",
   "execution_count": null,
   "metadata": {},
   "outputs": [],
   "source": []
  }
 ],
 "metadata": {
  "interpreter": {
   "hash": "65506c268200829addff9d8b31ed65033dd63174c634412656541f3627387210"
  },
  "kernelspec": {
   "display_name": "Python 3.7.11 ('allen')",
   "language": "python",
   "name": "python3"
  },
  "language_info": {
   "codemirror_mode": {
    "name": "ipython",
    "version": 3
   },
   "file_extension": ".py",
   "mimetype": "text/x-python",
   "name": "python",
   "nbconvert_exporter": "python",
   "pygments_lexer": "ipython3",
   "version": "3.7.11"
  },
  "orig_nbformat": 4
 },
 "nbformat": 4,
 "nbformat_minor": 2
}
